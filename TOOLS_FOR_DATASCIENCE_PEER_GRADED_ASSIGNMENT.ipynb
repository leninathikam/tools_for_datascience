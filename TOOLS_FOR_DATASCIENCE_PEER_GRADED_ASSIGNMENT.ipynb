{
  "cells": [
    {
      "cell_type": "markdown",
      "id": "90642806-01ec-49c8-868c-a667c92cdc6c",
      "metadata": {
        "id": "90642806-01ec-49c8-868c-a667c92cdc6c"
      },
      "source": [
        "<h2><strong>Name:</strong> Peer-graded_Assignment_Submitting_My_Work_by_Lenin</h2>\n",
        "\n",
        "\n",
        "\n"
      ]
    },
    {
      "cell_type": "markdown",
      "id": "fbe3312d-1bc3-4a88-9f0c-b3c4b32e71ef",
      "metadata": {
        "id": "fbe3312d-1bc3-4a88-9f0c-b3c4b32e71ef"
      },
      "source": [
        "<strong>Exercise 2 - Create a markdown cell with the title of the notebook.</strong>"
      ]
    },
    {
      "cell_type": "markdown",
      "id": "c0b7dd50-bacf-4dc0-98a1-6785b57fb181",
      "metadata": {
        "id": "c0b7dd50-bacf-4dc0-98a1-6785b57fb181"
      },
      "source": [
        "<h1>Data Science Tools</h1>"
      ]
    },
    {
      "cell_type": "markdown",
      "id": "a5b74512-a6ff-4dd2-89cc-d493d3bfd9fe",
      "metadata": {
        "id": "a5b74512-a6ff-4dd2-89cc-d493d3bfd9fe"
      },
      "source": [
        "<strong>Exercise 3 - Create a markdown cell for an introduction. (1 pt)</strong>"
      ]
    },
    {
      "cell_type": "markdown",
      "id": "728d9b1f-1d0b-4eb3-996a-4453c25444b4",
      "metadata": {
        "id": "728d9b1f-1d0b-4eb3-996a-4453c25444b4"
      },
      "source": [
        "<p>In this notebook, Data Science Tools are summarized.<p>"
      ]
    },
    {
      "cell_type": "markdown",
      "id": "b2b9bcf3-2c0b-48a1-bade-d6c3b8dc774e",
      "metadata": {
        "id": "b2b9bcf3-2c0b-48a1-bade-d6c3b8dc774e"
      },
      "source": [
        "<strong>Objectives:</strong>\n",
        "<ul>\n",
        "    <li>List popular languages that Data Scientists use.</li>\n",
        "    <li>List commonly used libraries used by Data Scientists</li>\n",
        "    <li>Comment on Data Science tools.</li>\n",
        "</ul>\n",
        "    "
      ]
    },
    {
      "cell_type": "markdown",
      "id": "6015b630-954a-4096-bfc0-dc28b53a378c",
      "metadata": {
        "id": "6015b630-954a-4096-bfc0-dc28b53a378c"
      },
      "source": [
        "<strong>Exercise 4 - Create a markdown cell to list data science languages. (3 pts)</strong>"
      ]
    },
    {
      "cell_type": "markdown",
      "id": "3c957deb-56d8-43b4-9ab9-7f5efea83c17",
      "metadata": {
        "id": "3c957deb-56d8-43b4-9ab9-7f5efea83c17"
      },
      "source": [
        "Some of the popular languages that Data Scientists use are:\n",
        "<ol>\n",
        "    <li><b>Python.</b></li>\n",
        "    <li>R.</li>\n",
        "    <li>SQL.</li>\n",
        "    <li>Java.</li>\n",
        "    <li>Julia.</li>\n",
        "    <li>Scala.</li>\n",
        "</ol>\n"
      ]
    },
    {
      "cell_type": "markdown",
      "id": "2e054783-ae15-402a-8391-6fbb81ec784a",
      "metadata": {
        "id": "2e054783-ae15-402a-8391-6fbb81ec784a"
      },
      "source": [
        "<strong>Exercise 5 - Create a markdown cell to list data science libraries. (3 pts)</strong>"
      ]
    },
    {
      "cell_type": "markdown",
      "id": "5c211684-5f77-4c28-bd23-590a3ab0b368",
      "metadata": {
        "id": "5c211684-5f77-4c28-bd23-590a3ab0b368"
      },
      "source": [
        "Some of the commonly used libraries used by Data Scientists include:\n",
        "<ol>\n",
        "    <li>TensorFlow.</li>\n",
        "    <li>NumPy.</li>\n",
        "    <li>SciPy.</li>\n",
        "    <li>Pandas.</li>\n",
        "    <li>Matplotlib.</li>\n",
        "    <li>Keras.</li>\n",
        "    <li>SciKit-Learn.</li>\n",
        "    <li>PyTorch.</li>\n",
        "    <li>Scrapy.</li>\n",
        "    <li>BeautifulSoup.</li>\n",
        "</ol>"
      ]
    },
    {
      "cell_type": "markdown",
      "id": "22f68c77-7e82-427a-8e8d-12c0a609989a",
      "metadata": {
        "id": "22f68c77-7e82-427a-8e8d-12c0a609989a"
      },
      "source": [
        "<strong>Exercise 6 - Create a markdown cell with a table of Data Science tools. (3 pts)</strong>"
      ]
    },
    {
      "cell_type": "markdown",
      "id": "34f750eb-46e1-46e8-b8a1-45bf703d5cdb",
      "metadata": {
        "id": "34f750eb-46e1-46e8-b8a1-45bf703d5cdb"
      },
      "source": [
        "Data Science Tools:\n",
        "\n",
        "<table style=\"width:100%\">\n",
        "  <tr>\n",
        "    <th>Data Science Tools</th>\n",
        "    <th></th>\n",
        "    <th></th>\n",
        "  </tr>\n",
        "  <tr>\n",
        "    <td>SAS. It is one of those data science tools which are specifically designed for statistical operations</td>\n",
        "    <td></td>\n",
        "    <td></td>\n",
        "  </tr>\n",
        "  <tr>\n",
        "    <td>APACHE SPARK</td>\n",
        "    <td></td>\n",
        "    <td></td>\n",
        "  </tr>\n",
        "  <tr>\n",
        "    <td>BIGML</td>\n",
        "    <td></td>\n",
        "    <td></td>\n",
        "  </tr>\n",
        "</table>"
      ]
    },
    {
      "cell_type": "markdown",
      "id": "0ff5d698-28c6-4af7-9fbf-3c8aeac5c162",
      "metadata": {
        "id": "0ff5d698-28c6-4af7-9fbf-3c8aeac5c162"
      },
      "source": [
        "<strong>Exercise 7 - Create a markdown cell introducing arithmetic expression examples. (1 pt)</strong>"
      ]
    },
    {
      "cell_type": "markdown",
      "id": "05ff289f-d200-40f5-817a-f2d1d65e3474",
      "metadata": {
        "id": "05ff289f-d200-40f5-817a-f2d1d65e3474"
      },
      "source": [
        "<h3>examples of arithmetic expressions</h3>"
      ]
    },
    {
      "cell_type": "code",
      "execution_count": 3,
      "id": "1b0019a7-0338-4d65-863d-3a35f0ca72ff",
      "metadata": {
        "colab": {
          "base_uri": "https://localhost:8080/"
        },
        "id": "1b0019a7-0338-4d65-863d-3a35f0ca72ff",
        "outputId": "3d2fdd79-3591-4157-ec0d-9b58b62251df"
      },
      "outputs": [
        {
          "output_type": "execute_result",
          "data": {
            "text/plain": [
              "36"
            ]
          },
          "metadata": {},
          "execution_count": 3
        }
      ],
      "source": [
        "# Arithmetic operations\n",
        "code = compile(\"9 * 4\", \"<string>\", \"eval\")\n",
        "eval(code)\n",
        "\n"
      ]
    },
    {
      "cell_type": "code",
      "execution_count": 1,
      "id": "ee49c688-2610-4a78-8947-d12f976e940a",
      "metadata": {
        "colab": {
          "base_uri": "https://localhost:8080/"
        },
        "id": "ee49c688-2610-4a78-8947-d12f976e940a",
        "outputId": "9d0205ae-e901-42f5-be9e-2543f891be46"
      },
      "outputs": [
        {
          "output_type": "execute_result",
          "data": {
            "text/plain": [
              "111"
            ]
          },
          "metadata": {},
          "execution_count": 1
        }
      ],
      "source": [
        "code1 = compile(\"(24 + 13) * 3\", \"<string>\", \"eval\")\n",
        "eval(code1)"
      ]
    },
    {
      "cell_type": "code",
      "execution_count": 2,
      "id": "812b1380-c75c-4854-9eaf-707c1ca6740d",
      "metadata": {
        "colab": {
          "base_uri": "https://localhost:8080/"
        },
        "id": "812b1380-c75c-4854-9eaf-707c1ca6740d",
        "outputId": "5d967b39-8f79-4075-89fa-abb11512aa08"
      },
      "outputs": [
        {
          "output_type": "execute_result",
          "data": {
            "text/plain": [
              "17157.284678805056"
            ]
          },
          "metadata": {},
          "execution_count": 2
        }
      ],
      "source": [
        "import math\n",
        "# Volume of a sphere\n",
        "code2 = compile(\"4 / 3 * math.pi * math.pow(16, 3)\", \"<string>\", \"eval\")\n",
        "eval(code2)"
      ]
    },
    {
      "cell_type": "markdown",
      "id": "631c4d61-6e2b-45ac-a6a7-e12c80a37434",
      "metadata": {
        "id": "631c4d61-6e2b-45ac-a6a7-e12c80a37434"
      },
      "source": [
        "<strong>Exercise 8 - Create a code cell to multiply and add numbers.(2 pts)</strong>"
      ]
    },
    {
      "cell_type": "markdown",
      "id": "a556813e-c573-45d9-a354-b3c4545c24ef",
      "metadata": {
        "id": "a556813e-c573-45d9-a354-b3c4545c24ef"
      },
      "source": [
        "This a simple arithmetic expression to mutiply then add integers"
      ]
    },
    {
      "cell_type": "code",
      "execution_count": 4,
      "id": "ae03f72b-2c05-4884-ae94-adc07167487d",
      "metadata": {
        "colab": {
          "base_uri": "https://localhost:8080/"
        },
        "id": "ae03f72b-2c05-4884-ae94-adc07167487d",
        "outputId": "5986fbd4-ba6c-4e03-b3bb-f22496546000"
      },
      "outputs": [
        {
          "output_type": "execute_result",
          "data": {
            "text/plain": [
              "87"
            ]
          },
          "metadata": {},
          "execution_count": 4
        }
      ],
      "source": [
        "(8 * 10)+7\n",
        "# Result: 17"
      ]
    },
    {
      "cell_type": "markdown",
      "id": "0d55da1f-c304-40e5-84ce-14243b70e2c0",
      "metadata": {
        "id": "0d55da1f-c304-40e5-84ce-14243b70e2c0"
      },
      "source": [
        "<strong>Exercise 9 - Create a code cell to convert minutes to hours. (2 pts)</strong>"
      ]
    },
    {
      "cell_type": "markdown",
      "id": "6a52fcb4-00de-4a39-b368-db083fbc4d61",
      "metadata": {
        "id": "6a52fcb4-00de-4a39-b368-db083fbc4d61"
      },
      "source": [
        "This will convert 200 minutes to hours by diving by 60"
      ]
    },
    {
      "cell_type": "code",
      "execution_count": null,
      "id": "383731de-c25b-4b4f-a1ce-44f26b6ae2ab",
      "metadata": {
        "id": "383731de-c25b-4b4f-a1ce-44f26b6ae2ab",
        "outputId": "1e05c285-1d47-42cb-b7ba-7867ab88f20e"
      },
      "outputs": [
        {
          "name": "stdout",
          "output_type": "stream",
          "text": [
            "0 days, 3.3333333333333335 hours, 0 mins. \n"
          ]
        }
      ],
      "source": [
        "days = 0\n",
        "hours = 0\n",
        "mins = 0\n",
        "\n",
        "time = 200\n",
        "#days = time / 1440\n",
        "leftover_minutes = time % 1440\n",
        "hours = leftover_minutes / 60\n",
        "#mins = time - (days*1440) - (hours*60)\n",
        "print(str(days) + \" days, \" + str(hours) + \" hours, \" + str(mins) +  \" mins. \")\n",
        "\n",
        "# Result: 3.3333333333333335 hours"
      ]
    },
    {
      "cell_type": "markdown",
      "id": "8df63065-35dc-4418-a0dc-51c8589c0ce6",
      "metadata": {
        "id": "8df63065-35dc-4418-a0dc-51c8589c0ce6"
      },
      "source": [
        "<strong>Exercise 10 -Insert a markdown cell to list Objectives.</strong>"
      ]
    },
    {
      "cell_type": "markdown",
      "id": "2ab21b9e-1ba9-4739-a770-c672cb525d65",
      "metadata": {
        "id": "2ab21b9e-1ba9-4739-a770-c672cb525d65"
      },
      "source": [
        "<p>Below the introduction cell created in Exercise 3, insert a new markdown cell to list the objectives that this notebook covered (i.e. some of the key takeaways from the course). In this new cell start with an introductory line titled: Objectives: in bold font. Then using an unordered list (bullets) indicate 3 to 5 items covered in this notebook, such as List popular languages for Data Science.</p>"
      ]
    },
    {
      "cell_type": "markdown",
      "id": "2fe637ac-7c3c-4053-9a9f-7cadbb99d5b6",
      "metadata": {
        "id": "2fe637ac-7c3c-4053-9a9f-7cadbb99d5b6"
      },
      "source": [
        "<strong>Exercise 11 - Create a markdown cell to indicate the Author’s name.</strong>"
      ]
    },
    {
      "cell_type": "markdown",
      "id": "ee566760-e4a1-4439-baf6-5e54e551929f",
      "metadata": {
        "id": "ee566760-e4a1-4439-baf6-5e54e551929f"
      },
      "source": [
        "<h2>Author:</h2> <B>ATHIKAM LENIN GOUD</B>"
      ]
    }
  ],
  "metadata": {
    "kernelspec": {
      "display_name": "Python",
      "language": "python",
      "name": "conda-env-python-py"
    },
    "language_info": {
      "codemirror_mode": {
        "name": "ipython",
        "version": 3
      },
      "file_extension": ".py",
      "mimetype": "text/x-python",
      "name": "python",
      "nbconvert_exporter": "python",
      "pygments_lexer": "ipython3",
      "version": "3.7.12"
    },
    "colab": {
      "provenance": []
    }
  },
  "nbformat": 4,
  "nbformat_minor": 5
}